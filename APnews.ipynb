{
  "nbformat": 4,
  "nbformat_minor": 0,
  "metadata": {
    "colab": {
      "provenance": []
    },
    "kernelspec": {
      "name": "python3",
      "display_name": "Python 3"
    },
    "language_info": {
      "name": "python"
    }
  },
  "cells": [
    {
      "cell_type": "code",
      "source": [
        "!pip install scrapy"
      ],
      "metadata": {
        "colab": {
          "base_uri": "https://localhost:8080/"
        },
        "id": "okfV2oootnfp",
        "outputId": "082e908d-fb7a-461c-9e8b-e966c3471f4f"
      },
      "execution_count": null,
      "outputs": [
        {
          "output_type": "stream",
          "name": "stdout",
          "text": [
            "Collecting scrapy\n",
            "  Downloading Scrapy-2.11.1-py2.py3-none-any.whl (287 kB)\n",
            "\u001b[2K     \u001b[90m━━━━━━━━━━━━━━━━━━━━━━━━━━━━━━━━━━━━━━━━\u001b[0m \u001b[32m287.8/287.8 kB\u001b[0m \u001b[31m5.6 MB/s\u001b[0m eta \u001b[36m0:00:00\u001b[0m\n",
            "\u001b[?25hCollecting Twisted>=18.9.0 (from scrapy)\n",
            "  Downloading twisted-23.10.0-py3-none-any.whl (3.2 MB)\n",
            "\u001b[2K     \u001b[90m━━━━━━━━━━━━━━━━━━━━━━━━━━━━━━━━━━━━━━━━\u001b[0m \u001b[32m3.2/3.2 MB\u001b[0m \u001b[31m49.8 MB/s\u001b[0m eta \u001b[36m0:00:00\u001b[0m\n",
            "\u001b[?25hRequirement already satisfied: cryptography>=36.0.0 in /usr/local/lib/python3.10/dist-packages (from scrapy) (42.0.2)\n",
            "Collecting cssselect>=0.9.1 (from scrapy)\n",
            "  Downloading cssselect-1.2.0-py2.py3-none-any.whl (18 kB)\n",
            "Collecting itemloaders>=1.0.1 (from scrapy)\n",
            "  Downloading itemloaders-1.1.0-py3-none-any.whl (11 kB)\n",
            "Collecting parsel>=1.5.0 (from scrapy)\n",
            "  Downloading parsel-1.8.1-py2.py3-none-any.whl (17 kB)\n",
            "Requirement already satisfied: pyOpenSSL>=21.0.0 in /usr/local/lib/python3.10/dist-packages (from scrapy) (24.0.0)\n",
            "Collecting queuelib>=1.4.2 (from scrapy)\n",
            "  Downloading queuelib-1.6.2-py2.py3-none-any.whl (13 kB)\n",
            "Collecting service-identity>=18.1.0 (from scrapy)\n",
            "  Downloading service_identity-24.1.0-py3-none-any.whl (12 kB)\n",
            "Collecting w3lib>=1.17.0 (from scrapy)\n",
            "  Downloading w3lib-2.1.2-py3-none-any.whl (21 kB)\n",
            "Collecting zope.interface>=5.1.0 (from scrapy)\n",
            "  Downloading zope.interface-6.2-cp310-cp310-manylinux_2_5_x86_64.manylinux1_x86_64.manylinux_2_17_x86_64.manylinux2014_x86_64.whl (247 kB)\n",
            "\u001b[2K     \u001b[90m━━━━━━━━━━━━━━━━━━━━━━━━━━━━━━━━━━━━━━━━\u001b[0m \u001b[32m247.3/247.3 kB\u001b[0m \u001b[31m21.9 MB/s\u001b[0m eta \u001b[36m0:00:00\u001b[0m\n",
            "\u001b[?25hCollecting protego>=0.1.15 (from scrapy)\n",
            "  Downloading Protego-0.3.0-py2.py3-none-any.whl (8.5 kB)\n",
            "Collecting itemadapter>=0.1.0 (from scrapy)\n",
            "  Downloading itemadapter-0.8.0-py3-none-any.whl (11 kB)\n",
            "Requirement already satisfied: setuptools in /usr/local/lib/python3.10/dist-packages (from scrapy) (67.7.2)\n",
            "Requirement already satisfied: packaging in /usr/local/lib/python3.10/dist-packages (from scrapy) (23.2)\n",
            "Collecting tldextract (from scrapy)\n",
            "  Downloading tldextract-5.1.1-py3-none-any.whl (97 kB)\n",
            "\u001b[2K     \u001b[90m━━━━━━━━━━━━━━━━━━━━━━━━━━━━━━━━━━━━━━━━\u001b[0m \u001b[32m97.7/97.7 kB\u001b[0m \u001b[31m11.2 MB/s\u001b[0m eta \u001b[36m0:00:00\u001b[0m\n",
            "\u001b[?25hRequirement already satisfied: lxml>=4.4.1 in /usr/local/lib/python3.10/dist-packages (from scrapy) (4.9.4)\n",
            "Collecting PyDispatcher>=2.0.5 (from scrapy)\n",
            "  Downloading PyDispatcher-2.0.7-py3-none-any.whl (12 kB)\n",
            "Requirement already satisfied: cffi>=1.12 in /usr/local/lib/python3.10/dist-packages (from cryptography>=36.0.0->scrapy) (1.16.0)\n",
            "Collecting jmespath>=0.9.5 (from itemloaders>=1.0.1->scrapy)\n",
            "  Downloading jmespath-1.0.1-py3-none-any.whl (20 kB)\n",
            "Requirement already satisfied: attrs>=19.1.0 in /usr/local/lib/python3.10/dist-packages (from service-identity>=18.1.0->scrapy) (23.2.0)\n",
            "Requirement already satisfied: pyasn1 in /usr/local/lib/python3.10/dist-packages (from service-identity>=18.1.0->scrapy) (0.5.1)\n",
            "Requirement already satisfied: pyasn1-modules in /usr/local/lib/python3.10/dist-packages (from service-identity>=18.1.0->scrapy) (0.3.0)\n",
            "Collecting automat>=0.8.0 (from Twisted>=18.9.0->scrapy)\n",
            "  Downloading Automat-22.10.0-py2.py3-none-any.whl (26 kB)\n",
            "Collecting constantly>=15.1 (from Twisted>=18.9.0->scrapy)\n",
            "  Downloading constantly-23.10.4-py3-none-any.whl (13 kB)\n",
            "Collecting hyperlink>=17.1.1 (from Twisted>=18.9.0->scrapy)\n",
            "  Downloading hyperlink-21.0.0-py2.py3-none-any.whl (74 kB)\n",
            "\u001b[2K     \u001b[90m━━━━━━━━━━━━━━━━━━━━━━━━━━━━━━━━━━━━━━━━\u001b[0m \u001b[32m74.6/74.6 kB\u001b[0m \u001b[31m4.2 MB/s\u001b[0m eta \u001b[36m0:00:00\u001b[0m\n",
            "\u001b[?25hCollecting incremental>=22.10.0 (from Twisted>=18.9.0->scrapy)\n",
            "  Downloading incremental-22.10.0-py2.py3-none-any.whl (16 kB)\n",
            "Requirement already satisfied: typing-extensions>=4.2.0 in /usr/local/lib/python3.10/dist-packages (from Twisted>=18.9.0->scrapy) (4.9.0)\n",
            "Requirement already satisfied: idna in /usr/local/lib/python3.10/dist-packages (from tldextract->scrapy) (3.6)\n",
            "Requirement already satisfied: requests>=2.1.0 in /usr/local/lib/python3.10/dist-packages (from tldextract->scrapy) (2.31.0)\n",
            "Collecting requests-file>=1.4 (from tldextract->scrapy)\n",
            "  Downloading requests_file-2.0.0-py2.py3-none-any.whl (4.2 kB)\n",
            "Requirement already satisfied: filelock>=3.0.8 in /usr/local/lib/python3.10/dist-packages (from tldextract->scrapy) (3.13.1)\n",
            "Requirement already satisfied: six in /usr/local/lib/python3.10/dist-packages (from automat>=0.8.0->Twisted>=18.9.0->scrapy) (1.16.0)\n",
            "Requirement already satisfied: pycparser in /usr/local/lib/python3.10/dist-packages (from cffi>=1.12->cryptography>=36.0.0->scrapy) (2.21)\n",
            "Requirement already satisfied: charset-normalizer<4,>=2 in /usr/local/lib/python3.10/dist-packages (from requests>=2.1.0->tldextract->scrapy) (3.3.2)\n",
            "Requirement already satisfied: urllib3<3,>=1.21.1 in /usr/local/lib/python3.10/dist-packages (from requests>=2.1.0->tldextract->scrapy) (2.0.7)\n",
            "Requirement already satisfied: certifi>=2017.4.17 in /usr/local/lib/python3.10/dist-packages (from requests>=2.1.0->tldextract->scrapy) (2024.2.2)\n",
            "Installing collected packages: PyDispatcher, incremental, zope.interface, w3lib, queuelib, protego, jmespath, itemadapter, hyperlink, cssselect, constantly, automat, Twisted, requests-file, parsel, tldextract, service-identity, itemloaders, scrapy\n",
            "Successfully installed PyDispatcher-2.0.7 Twisted-23.10.0 automat-22.10.0 constantly-23.10.4 cssselect-1.2.0 hyperlink-21.0.0 incremental-22.10.0 itemadapter-0.8.0 itemloaders-1.1.0 jmespath-1.0.1 parsel-1.8.1 protego-0.3.0 queuelib-1.6.2 requests-file-2.0.0 scrapy-2.11.1 service-identity-24.1.0 tldextract-5.1.1 w3lib-2.1.2 zope.interface-6.2\n"
          ]
        }
      ]
    },
    {
      "cell_type": "code",
      "source": [
        "!scrapy startproject ap"
      ],
      "metadata": {
        "colab": {
          "base_uri": "https://localhost:8080/"
        },
        "id": "C5iVGZcMtuA0",
        "outputId": "23c4c2f1-3806-43f8-9ad4-585f1cfd22f2"
      },
      "execution_count": null,
      "outputs": [
        {
          "output_type": "stream",
          "name": "stdout",
          "text": [
            "New Scrapy project 'ap', using template directory '/usr/local/lib/python3.10/dist-packages/scrapy/templates/project', created in:\n",
            "    /content/ap\n",
            "\n",
            "You can start your first spider with:\n",
            "    cd ap\n",
            "    scrapy genspider example example.com\n"
          ]
        }
      ]
    },
    {
      "cell_type": "code",
      "source": [
        "%cd /content/ap/ap/spiders"
      ],
      "metadata": {
        "colab": {
          "base_uri": "https://localhost:8080/"
        },
        "id": "faRmQb8atwnh",
        "outputId": "417fe929-529b-412a-f27e-7782e5a24de9"
      },
      "execution_count": null,
      "outputs": [
        {
          "output_type": "stream",
          "name": "stdout",
          "text": [
            "/content/ap/ap/spiders\n"
          ]
        }
      ]
    },
    {
      "cell_type": "code",
      "source": [
        "!scrapy genspider apnews https://apnews.com/"
      ],
      "metadata": {
        "colab": {
          "base_uri": "https://localhost:8080/"
        },
        "id": "pFQaPaibt6_F",
        "outputId": "0742ca8e-3d4d-4651-8052-6017cae90dd9"
      },
      "execution_count": null,
      "outputs": [
        {
          "output_type": "stream",
          "name": "stdout",
          "text": [
            "Created spider 'apnews' using template 'basic' in module:\n",
            "  ap.spiders.apnews\n"
          ]
        }
      ]
    },
    {
      "cell_type": "code",
      "source": [
        "%%writefile apnews.py\n",
        "import scrapy\n",
        "\n",
        "\n",
        "class ApnewsSpider(scrapy.Spider):\n",
        "    name = \"apnews\"\n",
        "    allowed_domains = [\"apnews.com\"]\n",
        "    start_urls = [\"https://apnews.com/\"]\n",
        "\n",
        "    def parse(self, response):\n",
        "      news=response.css('div.PagePromo')\n",
        "      for new in news:\n",
        "        yield{\n",
        "          'title': new.css('h3.PagePromo-title a span.PagePromoContentIcons-text::text').get(),\n",
        "          'url' : new.css('h3.PagePromo-title a').attrib['href'],\n",
        "          'Date':new.css('div.PagePromo-date span.Timestamp-minago::text').get(),\n",
        "             }\n"
      ],
      "metadata": {
        "colab": {
          "base_uri": "https://localhost:8080/"
        },
        "id": "QSLWEsx1uBys",
        "outputId": "38d526e6-da1b-46b7-904e-f164157771f0"
      },
      "execution_count": null,
      "outputs": [
        {
          "output_type": "stream",
          "name": "stdout",
          "text": [
            "Overwriting apnews.py\n"
          ]
        }
      ]
    },
    {
      "cell_type": "code",
      "source": [
        "!scrapy crawl apnews -o data1.json"
      ],
      "metadata": {
        "colab": {
          "base_uri": "https://localhost:8080/"
        },
        "id": "lj6GUcE6u_gb",
        "outputId": "1de6aaf0-4387-433f-d326-9f5e7369f724"
      },
      "execution_count": null,
      "outputs": [
        {
          "output_type": "stream",
          "name": "stdout",
          "text": [
            "2024-02-20 19:36:42 [scrapy.utils.log] INFO: Scrapy 2.11.1 started (bot: ap)\n",
            "2024-02-20 19:36:42 [scrapy.utils.log] INFO: Versions: lxml 4.9.4.0, libxml2 2.10.3, cssselect 1.2.0, parsel 1.8.1, w3lib 2.1.2, Twisted 23.10.0, Python 3.10.12 (main, Nov 20 2023, 15:14:05) [GCC 11.4.0], pyOpenSSL 24.0.0 (OpenSSL 3.2.1 30 Jan 2024), cryptography 42.0.2, Platform Linux-6.1.58+-x86_64-with-glibc2.35\n",
            "2024-02-20 19:36:42 [scrapy.addons] INFO: Enabled addons:\n",
            "[]\n",
            "2024-02-20 19:36:42 [asyncio] DEBUG: Using selector: EpollSelector\n",
            "2024-02-20 19:36:42 [scrapy.utils.log] DEBUG: Using reactor: twisted.internet.asyncioreactor.AsyncioSelectorReactor\n",
            "2024-02-20 19:36:42 [scrapy.utils.log] DEBUG: Using asyncio event loop: asyncio.unix_events._UnixSelectorEventLoop\n",
            "2024-02-20 19:36:42 [scrapy.extensions.telnet] INFO: Telnet Password: 08ba0e4a57d55426\n",
            "2024-02-20 19:36:42 [scrapy.middleware] INFO: Enabled extensions:\n",
            "['scrapy.extensions.corestats.CoreStats',\n",
            " 'scrapy.extensions.telnet.TelnetConsole',\n",
            " 'scrapy.extensions.memusage.MemoryUsage',\n",
            " 'scrapy.extensions.feedexport.FeedExporter',\n",
            " 'scrapy.extensions.logstats.LogStats']\n",
            "2024-02-20 19:36:42 [scrapy.crawler] INFO: Overridden settings:\n",
            "{'BOT_NAME': 'ap',\n",
            " 'FEED_EXPORT_ENCODING': 'utf-8',\n",
            " 'NEWSPIDER_MODULE': 'ap.spiders',\n",
            " 'REQUEST_FINGERPRINTER_IMPLEMENTATION': '2.7',\n",
            " 'ROBOTSTXT_OBEY': True,\n",
            " 'SPIDER_MODULES': ['ap.spiders'],\n",
            " 'TWISTED_REACTOR': 'twisted.internet.asyncioreactor.AsyncioSelectorReactor'}\n",
            "2024-02-20 19:36:42 [scrapy.middleware] INFO: Enabled downloader middlewares:\n",
            "['scrapy.downloadermiddlewares.robotstxt.RobotsTxtMiddleware',\n",
            " 'scrapy.downloadermiddlewares.httpauth.HttpAuthMiddleware',\n",
            " 'scrapy.downloadermiddlewares.downloadtimeout.DownloadTimeoutMiddleware',\n",
            " 'scrapy.downloadermiddlewares.defaultheaders.DefaultHeadersMiddleware',\n",
            " 'scrapy.downloadermiddlewares.useragent.UserAgentMiddleware',\n",
            " 'scrapy.downloadermiddlewares.retry.RetryMiddleware',\n",
            " 'scrapy.downloadermiddlewares.redirect.MetaRefreshMiddleware',\n",
            " 'scrapy.downloadermiddlewares.httpcompression.HttpCompressionMiddleware',\n",
            " 'scrapy.downloadermiddlewares.redirect.RedirectMiddleware',\n",
            " 'scrapy.downloadermiddlewares.cookies.CookiesMiddleware',\n",
            " 'scrapy.downloadermiddlewares.httpproxy.HttpProxyMiddleware',\n",
            " 'scrapy.downloadermiddlewares.stats.DownloaderStats']\n",
            "2024-02-20 19:36:42 [scrapy.middleware] INFO: Enabled spider middlewares:\n",
            "['scrapy.spidermiddlewares.httperror.HttpErrorMiddleware',\n",
            " 'scrapy.spidermiddlewares.offsite.OffsiteMiddleware',\n",
            " 'scrapy.spidermiddlewares.referer.RefererMiddleware',\n",
            " 'scrapy.spidermiddlewares.urllength.UrlLengthMiddleware',\n",
            " 'scrapy.spidermiddlewares.depth.DepthMiddleware']\n",
            "2024-02-20 19:36:42 [scrapy.middleware] INFO: Enabled item pipelines:\n",
            "[]\n",
            "2024-02-20 19:36:42 [scrapy.core.engine] INFO: Spider opened\n",
            "2024-02-20 19:36:42 [scrapy.extensions.logstats] INFO: Crawled 0 pages (at 0 pages/min), scraped 0 items (at 0 items/min)\n",
            "2024-02-20 19:36:42 [scrapy.extensions.telnet] INFO: Telnet console listening on 127.0.0.1:6023\n",
            "2024-02-20 19:36:42 [scrapy.core.engine] DEBUG: Crawled (200) <GET https://apnews.com/robots.txt> (referer: None)\n",
            "2024-02-20 19:36:42 [scrapy.core.engine] DEBUG: Crawled (200) <GET https://apnews.com/> (referer: None)\n",
            "2024-02-20 19:36:42 [scrapy.core.scraper] DEBUG: Scraped from <200 https://apnews.com/>\n",
            "{'title': 'Eagles file trademark suit against Mexican Hotel California', 'url': 'https://apnews.com/general-news-music-14ac69503c764f14bbbbbb241aa88772', 'Date': '[deltaMinutes] mins ago'}\n",
            "2024-02-20 19:36:42 [scrapy.core.scraper] DEBUG: Scraped from <200 https://apnews.com/>\n",
            "{'title': '3 charged in scheme to sell stolen ‘Hotel California’ lyrics', 'url': 'https://apnews.com/article/entertainment-music-new-york-california-290e31743f028951408a4a80a681f880', 'Date': '[deltaMinutes] mins ago'}\n",
            "2024-02-20 19:36:42 [scrapy.core.scraper] DEBUG: Scraped from <200 https://apnews.com/>\n",
            "{'title': 'The Supreme Court leaves in place the admissions plan at an elite Virginia public high school', 'url': 'https://apnews.com/article/supreme-court-virginia-school-admissions-asian-discrimination-bdac4a3d720c0355f9da1c9539b05c2d', 'Date': '[deltaMinutes] mins ago'}\n",
            "2024-02-20 19:36:42 [scrapy.core.scraper] DEBUG: Scraped from <200 https://apnews.com/>\n",
            "{'title': 'Nikki Haley sees path to the nomination without GOP primary wins', 'url': 'https://apnews.com/article/nikki-haley-donald-trump-election-2024-b1582a35c3617eee49b36288523a1ea6', 'Date': '[deltaMinutes] mins ago'}\n",
            "2024-02-20 19:36:42 [scrapy.core.scraper] DEBUG: Scraped from <200 https://apnews.com/>\n",
            "{'title': 'Navalny’s mother appeals to Putin to release her son’s body so she can bury him with dignity', 'url': 'https://apnews.com/article/russia-navalny-death-567e37bdcf6f9b8aadb1947e27d84af4', 'Date': '[deltaMinutes] mins ago'}\n",
            "2024-02-20 19:36:42 [scrapy.core.scraper] DEBUG: Scraped from <200 https://apnews.com/>\n",
            "{'title': 'Alabama Supreme Court rules frozen embryos are ‘children’ under state law', 'url': 'https://apnews.com/article/alabama-supreme-court-from-embryos-161390f0758b04a7638e2ddea20df7ca', 'Date': '[deltaMinutes] mins ago'}\n",
            "2024-02-20 19:36:42 [scrapy.core.scraper] DEBUG: Scraped from <200 https://apnews.com/>\n",
            "{'title': 'Suspect in Colorado campus killing was roommate of 1 of the victims, police say', 'url': 'https://apnews.com/article/university-colorado-springs-shooting-death-roommate-3e47914202c6b9fe1752a85cf75fa306', 'Date': None}\n",
            "2024-02-20 19:36:42 [scrapy.core.scraper] DEBUG: Scraped from <200 https://apnews.com/>\n",
            "{'title': 'A UN agency says it can’t deliver aid to northern Gaza because of chaos, and famine fears are rising', 'url': 'https://apnews.com/article/israel-hamas-war-news-02-20-2024-26d2afd9b81868c74ff2e4393692f91f', 'Date': None}\n",
            "2024-02-20 19:36:42 [scrapy.core.scraper] DEBUG: Scraped from <200 https://apnews.com/>\n",
            "{'title': 'New York Archdiocese denounces transgender activist’s funeral held at St. Patrick’s Cathedral', 'url': 'https://apnews.com/article/new-york-church-archdiocese-transgender-activist-funeral-75580316101b7f6b8a010a019a016297', 'Date': None}\n",
            "2024-02-20 19:36:42 [scrapy.core.scraper] DEBUG: Scraped from <200 https://apnews.com/>\n",
            "{'title': 'Spanish police suspect bullet-riddled body may be Russian who defected with army helicopter', 'url': 'https://apnews.com/article/russian-deserter-f1071b2ca9a4594687d6e232a92237e8', 'Date': None}\n",
            "2024-02-20 19:36:42 [scrapy.core.scraper] DEBUG: Scraped from <200 https://apnews.com/>\n",
            "{'title': 'YouTube mom Ruby Franke apologizes at sentencing in child abuse case', 'url': 'https://apnews.com/article/ruby-franke-youtube-child-abuse-sentencing-4f4985c1cab9243d4eaf8b6a58f087ed', 'Date': None}\n",
            "2024-02-20 19:36:42 [scrapy.core.scraper] DEBUG: Scraped from <200 https://apnews.com/>\n",
            "{'title': 'GOP presidential candidate Nikki Haley chokes up about husband’s deployment', 'url': 'https://apnews.com/video/south-carolina-united-states-government-nikki-haley-e860d0aeb8fe4d34af772e95d15c761a', 'Date': None}\n",
            "2024-02-20 19:36:42 [scrapy.core.scraper] DEBUG: Scraped from <200 https://apnews.com/>\n",
            "{'title': 'US vetoes an Arab-backed UN resolution demanding an immediate humanitarian cease-fire in Gaza', 'url': 'https://apnews.com/video/israel-hamas-war-middle-east-war-and-unrest-international-agreements-gaza-strip-53a6674d26454ceb893e8726cfd53ea5', 'Date': None}\n",
            "2024-02-20 19:36:42 [scrapy.core.scraper] DEBUG: Scraped from <200 https://apnews.com/>\n",
            "{'title': 'Madonna falls off chair during Seattle show', 'url': 'https://apnews.com/video/madonna-falls-off-chair-during-seattle-show-0000018dc787d2efab8fd7d7bd3a0000', 'Date': None}\n",
            "2024-02-20 19:36:42 [scrapy.core.scraper] DEBUG: Scraped from <200 https://apnews.com/>\n",
            "{'title': 'The Vatican’s problematic process to address clergy sex abuse cases, explained', 'url': 'https://apnews.com/article/vatican-pope-abuse-victim-survivor-trauma-6cfef8f4e77db777df660bbc4d855758', 'Date': '[deltaMinutes] mins ago'}\n",
            "2024-02-20 19:36:42 [scrapy.core.scraper] DEBUG: Scraped from <200 https://apnews.com/>\n",
            "{'title': 'The suspects in a Kenyan doomsday cult are ordered to be hospitalized after a hunger strike', 'url': 'https://apnews.com/article/kenya-doomsday-cult-starvation-charges-paul-mackenzie-ea4a0badbe3a31c141c037358423ff4d', 'Date': '[deltaMinutes] mins ago'}\n",
            "2024-02-20 19:36:42 [scrapy.core.scraper] DEBUG: Scraped from <200 https://apnews.com/>\n",
            "{'title': 'The widow and aides of assassinated Haitian President Jovenel Moïse are indicted in his killing', 'url': 'https://apnews.com/article/haiti-martine-moise-indicted-claude-joseph-leon-charles-9b70e2dd91e7bbb48737df89f76a689d', 'Date': '[deltaMinutes] mins ago'}\n",
            "2024-02-20 19:36:42 [scrapy.core.scraper] DEBUG: Scraped from <200 https://apnews.com/>\n",
            "{'title': 'Ransomware group LockBit is disrupted by a global police operation that includes 2 arrests', 'url': 'https://apnews.com/article/lockbit-ransomware-website-police-disrupt-0297653ddfc245fcdf7d9308c6c1e6fe', 'Date': '[deltaMinutes] mins ago'}\n",
            "2024-02-20 19:36:42 [scrapy.core.scraper] DEBUG: Scraped from <200 https://apnews.com/>\n",
            "{'title': 'Beatles to get a Fab Four of biopics, with a movie each for Paul, John, George and Ringo', 'url': 'https://apnews.com/article/beatles-biopic-sam-mendes-3f3f74076d78f16ac420820638e05de3', 'Date': '[deltaMinutes] mins ago'}\n",
            "2024-02-20 19:36:42 [scrapy.core.scraper] DEBUG: Scraped from <200 https://apnews.com/>\n",
            "{'title': 'Biden admin providing $1.5 billion to GlobalFoundries to make computer chips in New York and Vermont', 'url': 'https://apnews.com/article/computer-chips-biden-new-york-schumer-globalfoundries-fe69bb214354695769dd615de4f9c221', 'Date': '[deltaMinutes] mins ago'}\n",
            "2024-02-20 19:36:42 [scrapy.core.scraper] DEBUG: Scraped from <200 https://apnews.com/>\n",
            "{'title': 'The Republican Party is seeing a growing acceptance of Russian expansionism in the age of Donald Trump', 'url': 'https://apnews.com/article/putin-russia-republicans-ukraine-europe-trump-fbe56b789e7c37313ec158a00a571be4', 'Date': '[deltaMinutes] mins ago'}\n",
            "2024-02-20 19:36:42 [scrapy.core.scraper] DEBUG: Scraped from <200 https://apnews.com/>\n",
            "{'title': 'In a post about dead Russian opposition leader Navalny, Trump talks of his own legal problems', 'url': 'https://apnews.com/article/trump-navalny-putin-russia-biden-efa2bf5ee43c989820f3e02e90c5ebe9', 'Date': '[deltaMinutes] mins ago'}\n",
            "2024-02-20 19:36:42 [scrapy.core.scraper] DEBUG: Scraped from <200 https://apnews.com/>\n",
            "{'title': 'Trump hawks $399 branded shoes at ‘Sneaker Con,’ a day after a $355 million ruling against him', 'url': 'https://apnews.com/article/trump-sneakers-sneaker-con-philadelphia-4de093eda6f8d1c68baf8fe8095f777b', 'Date': '[deltaMinutes] mins ago'}\n",
            "2024-02-20 19:36:42 [scrapy.core.scraper] DEBUG: Scraped from <200 https://apnews.com/>\n",
            "{'title': 'GOP candidates elevate anti-transgender messaging as a rallying call to Christian conservatives', 'url': 'https://apnews.com/article/lgbtq-transgender-republicans-trump-christian-conservatives-election-83becc009d8123d96a75c2e4940ab339', 'Date': None}\n",
            "2024-02-20 19:36:42 [scrapy.core.scraper] DEBUG: Scraped from <200 https://apnews.com/>\n",
            "{'title': 'Here’s where all the cases against Trump stand as he campaigns for a return to the White House', 'url': 'https://apnews.com/article/trump-indictments-election-january-6-classified-documents-5cb04868bb1cdf91c19eafdb882af8c0', 'Date': None}\n",
            "2024-02-20 19:36:42 [scrapy.core.scraper] DEBUG: Scraped from <200 https://apnews.com/>\n",
            "{'title': 'Astronomers find what may be the universe’s brightest object with a black hole devouring a sun a day', 'url': 'https://apnews.com/article/brightest-object-universe-quasar-46ecf903335014ee870ab1adcf70235b', 'Date': '[deltaMinutes] mins ago'}\n",
            "2024-02-20 19:36:42 [scrapy.core.scraper] DEBUG: Scraped from <200 https://apnews.com/>\n",
            "{'title': 'A ship carrying 19,000 cattle caused a big stink in the South African city of Cape Town', 'url': 'https://apnews.com/article/south-africa-cape-town-ship-smell-cattle-f72c017b48d330372fb22f50d341f8fa', 'Date': '[deltaMinutes] mins ago'}\n",
            "2024-02-20 19:36:42 [scrapy.core.scraper] DEBUG: Scraped from <200 https://apnews.com/>\n",
            "{'title': 'Ever wonder what’s in the Vatican secret archives? The priest who runs it offers the following', 'url': 'https://apnews.com/article/vatican-archive-secrets-pius-xii-pope-c0c31a8e0b7e8d0827467367dd94779f', 'Date': '[deltaMinutes] mins ago'}\n",
            "2024-02-20 19:36:42 [scrapy.core.scraper] DEBUG: Scraped from <200 https://apnews.com/>\n",
            "{'title': 'A loophole got him a free New York hotel stay for five years. Then he claimed to own the building', 'url': 'https://apnews.com/article/new-yorker-hotel-fraud-free-room-loophole-6505cb6df084002401aab9f6eaecf452', 'Date': '[deltaMinutes] mins ago'}\n",
            "2024-02-20 19:36:42 [scrapy.core.scraper] DEBUG: Scraped from <200 https://apnews.com/>\n",
            "{'title': 'Some video game actors are letting AI clone their voices. They just don’t want it to replace them', 'url': 'https://apnews.com/article/aigenerated-voice-clones-video-game-actors-replica-studios-sagaftra-517cc248f60a2f5e35f9b239b70f20a7', 'Date': '[deltaMinutes] mins ago'}\n",
            "2024-02-20 19:36:42 [scrapy.core.scraper] DEBUG: Scraped from <200 https://apnews.com/>\n",
            "{'title': 'George Santos sues late-night host Jimmy Kimmel for tricking him into making videos to ridicule him', 'url': 'https://apnews.com/article/george-santos-jimmy-kimmel-copyright-lawsuit-41e1c2951945e11c069a41f9ea62281d', 'Date': '[deltaMinutes] mins ago'}\n",
            "2024-02-20 19:36:42 [scrapy.core.scraper] DEBUG: Scraped from <200 https://apnews.com/>\n",
            "{'title': 'US rivalry with China expands to biotech. Lawmakers see a failure to compete and want to act', 'url': 'https://apnews.com/article/us-biotechnology-biotech-china-congress-communist-party-c892d9d18d8f38dad7e955fa8038e7d6', 'Date': '[deltaMinutes] mins ago'}\n",
            "2024-02-20 19:36:42 [scrapy.core.scraper] DEBUG: Scraped from <200 https://apnews.com/>\n",
            "{'title': 'AP wins the best-documentary prize at the BAFTA awards for Ukraine film ’20 Days in Mariupol’', 'url': 'https://apnews.com/article/ap-mariupol-documentary-bafta-11fbb13e16f1df64f026be42610dfa60', 'Date': '[deltaMinutes] mins ago'}\n",
            "2024-02-20 19:36:42 [scrapy.core.scraper] DEBUG: Scraped from <200 https://apnews.com/>\n",
            "{'title': 'Penn Museum buries the bones of 19 Black Philadelphians, causing a dispute with community members', 'url': 'https://apnews.com/article/morton-cranial-collection-penn-museum-bones-repatriation-8b87b5542d9dc18447f791ddfa87f121', 'Date': '[deltaMinutes] mins ago'}\n",
            "2024-02-20 19:36:42 [scrapy.core.scraper] DEBUG: Scraped from <200 https://apnews.com/>\n",
            "{'title': 'The first Black woman in the Mississippi Legislature now has her portrait in the state Capitol', 'url': 'https://apnews.com/article/mississippi-house-first-black-woman-portrait-dd262fbe9e54f39334b9e1fa53c6727c', 'Date': '[deltaMinutes] mins ago'}\n",
            "2024-02-20 19:36:42 [scrapy.core.scraper] DEBUG: Scraped from <200 https://apnews.com/>\n",
            "{'title': 'Voices from the violent civil rights era see attacks on voting rights as part of ongoing struggle', 'url': 'https://apnews.com/article/voting-rights-supreme-court-voter-suppression-36a187a7ae9f2d462fbf66ec6439a53b', 'Date': '[deltaMinutes] mins ago'}\n",
            "2024-02-20 19:36:42 [scrapy.core.scraper] DEBUG: Scraped from <200 https://apnews.com/>\n",
            "{'title': 'Tracing the fight for voting rights in the United States', 'url': 'https://apnews.com/video/voting-rights-politics-associated-press-district-of-columbia-supreme-court-the-united-states-a0b8c98a192a46af937dad121377879a', 'Date': '[deltaMinutes] mins ago'}\n",
            "2024-02-20 19:36:42 [scrapy.core.scraper] DEBUG: Scraped from <200 https://apnews.com/>\n",
            "{'title': 'Oldest schoolhouse for Black children in US moved to museum', 'url': 'https://apnews.com/article/education-school-curricula-colleges-and-universities-colonial-williamsburg-virginia-a595c82c10e0857ea4583eb09dfcf109', 'Date': None}\n",
            "2024-02-20 19:36:42 [scrapy.core.scraper] DEBUG: Scraped from <200 https://apnews.com/>\n",
            "{'title': 'White House promises ‘major sanctions’ on Russia in response to Alexei Navalny’s death', 'url': 'https://apnews.com/article/sanctions-navalny-putin-biden-ukraine-dc1a51954673398a0410f8a6320f39e8', 'Date': '[deltaMinutes] mins ago'}\n",
            "2024-02-20 19:36:42 [scrapy.core.scraper] DEBUG: Scraped from <200 https://apnews.com/>\n",
            "{'title': 'Biden heads to California to rev up his fundraising in anticipation of a costly rematch with Trump', 'url': 'https://apnews.com/article/biden-california-los-angeles-san-francisco-fundraisers-87ae7fe3a8c742d53d034322d450462d', 'Date': None}\n",
            "2024-02-20 19:36:42 [scrapy.core.scraper] DEBUG: Scraped from <200 https://apnews.com/>\n",
            "{'title': 'GOP Senate contenders aren’t shy about wanting Trump’s approval. But in Pennsylvania, it’s awkward', 'url': 'https://apnews.com/article/pennsylvania-senate-mccormick-casey-trump-biden-50632899264af6d7691246cc592685a4', 'Date': None}\n",
            "2024-02-20 19:36:42 [scrapy.core.scraper] DEBUG: Scraped from <200 https://apnews.com/>\n",
            "{'title': 'Biden wants people to know most of the money he’s seeking for Ukraine would be spent in the US', 'url': 'https://apnews.com/article/biden-ukraine-johnson-factories-aid-62cbb83a184fd14b1573e25a73475767', 'Date': None}\n",
            "2024-02-20 19:36:42 [scrapy.core.scraper] DEBUG: Scraped from <200 https://apnews.com/>\n",
            "{'title': 'Off to Never Never Land: ‘Peter Pan’ flies again in a new tour after some much needed changes', 'url': 'https://apnews.com/article/peter-pan-tour-ea273673ba590b80e535685c75dae7a3', 'Date': '[deltaMinutes] mins ago'}\n",
            "2024-02-20 19:36:42 [scrapy.core.scraper] DEBUG: Scraped from <200 https://apnews.com/>\n",
            "{'title': 'Welcome to the ‘Hotel California’ case: The trial over handwritten lyrics to an Eagles classic', 'url': 'https://apnews.com/article/hotel-california-lyrics-manuscript-trial-eagles-henley-973e74e795416821e6f022895b47b78e', 'Date': None}\n",
            "2024-02-20 19:36:42 [scrapy.core.scraper] DEBUG: Scraped from <200 https://apnews.com/>\n",
            "{'title': 'Lena Dunham and Stephen Fry connect with their Jewish heritage in new film ‘Treasure’', 'url': 'https://apnews.com/article/germany-berlin-film-festival-treasure-dunham-fry-ccc513b5e9d707c34c9b6c155d30989f', 'Date': None}\n",
            "2024-02-20 19:36:42 [scrapy.core.scraper] DEBUG: Scraped from <200 https://apnews.com/>\n",
            "{'title': 'Book Review: Melissa Albert’s ‘The Bad Ones’ is a gripping story of friendship and the supernatural', 'url': 'https://apnews.com/article/bad-ones-melissa-albert-book-review-1767a3a1a25cae76de2d1fe26350adcd', 'Date': None}\n",
            "2024-02-20 19:36:42 [scrapy.core.scraper] DEBUG: Scraped from <200 https://apnews.com/>\n",
            "{'title': 'College Football Playoff approves 5+7 format and reduces spots for conference champions', 'url': 'https://apnews.com/article/cfp-expansion-33735d72577d17374d718e6c496983e6', 'Date': '[deltaMinutes] mins ago'}\n",
            "2024-02-20 19:36:42 [scrapy.core.scraper] DEBUG: Scraped from <200 https://apnews.com/>\n",
            "{'title': 'The Hoosier Gym, home of the Hickory Huskers, still resonates with basketball fans', 'url': 'https://apnews.com/article/hoosier-gym-movie-basketball-d38af7b796bee4cafd1915220684dbb2', 'Date': None}\n",
            "2024-02-20 19:36:42 [scrapy.core.scraper] DEBUG: Scraped from <200 https://apnews.com/>\n",
            "{'title': 'Hundreds are set to descend on Tahiti for Olympic surfing. Can locals protect their way of life?', 'url': 'https://apnews.com/article/olympics-surfing-paris-2024-tahiti-teahupoo-c4ceff2ccaaf4cd4e0b9f554093bd54b', 'Date': None}\n",
            "2024-02-20 19:36:42 [scrapy.core.scraper] DEBUG: Scraped from <200 https://apnews.com/>\n",
            "{'title': 'Steve Kerr’s son finding his way in coaching not far from where his dad leads NBA stars', 'url': 'https://apnews.com/article/steve-kerr-son-g-league-d6b8f0ca4b04608f68529bb9f2a5a710', 'Date': None}\n",
            "2024-02-20 19:36:42 [scrapy.core.scraper] DEBUG: Scraped from <200 https://apnews.com/>\n",
            "{'title': 'A shaken Minnesota community gets some answers on the killings of 2 officers and 1 firefighter', 'url': 'https://apnews.com/article/officers-medic-shot-killed-burnsville-minnesota-76ae1cd7362b4bf3bca4e9598f9a968f', 'Date': '[deltaMinutes] mins ago'}\n",
            "2024-02-20 19:36:42 [scrapy.core.scraper] DEBUG: Scraped from <200 https://apnews.com/>\n",
            "{'title': 'First federal trial for a hate crime based on gender identity starts over trans woman’s killing', 'url': 'https://apnews.com/article/hate-crime-south-carolina-transgender-woman-c7d2970b6c2658c1e711fa15e5777ab4', 'Date': None}\n",
            "2024-02-20 19:36:42 [scrapy.core.scraper] DEBUG: Scraped from <200 https://apnews.com/>\n",
            "{'title': 'Honduran ex-president accused of running his country as a ‘narco-state’ stands trial in NYC', 'url': 'https://apnews.com/article/honduras-president-hernandez-drug-trafficking-trial-69ff7336086cd4a30b9bf9be47f8b238', 'Date': None}\n",
            "2024-02-20 19:36:42 [scrapy.core.scraper] DEBUG: Scraped from <200 https://apnews.com/>\n",
            "{'title': 'She’s not quitting. Takeaways from Nikki Haley’s push to stay in the GOP contest against Trump', 'url': 'https://apnews.com/article/nikki-haley-president-trump-interview-takeaways-b1eeeab91bd644d39ae575200592ceb2', 'Date': None}\n",
            "2024-02-20 19:36:42 [scrapy.core.scraper] DEBUG: Scraped from <200 https://apnews.com/>\n",
            "{'title': 'The US vetoes an Arab-backed UN resolution demanding an immediate humanitarian cease-fire in Gaza', 'url': 'https://apnews.com/article/un-israel-palestinians-gaza-ceasefire-resolution-vote-350c86ef261bf1a00a2515cf22764de5', 'Date': '[deltaMinutes] mins ago'}\n",
            "2024-02-20 19:36:42 [scrapy.core.scraper] DEBUG: Scraped from <200 https://apnews.com/>\n",
            "{'title': 'Putin is trying to take advantage of a stalemate in Ukraine but the war is also draining for Russia', 'url': 'https://apnews.com/article/russia-ukraine-war-putin-anniversary-fb2db02ef51683eb6d7c85c0235577f0', 'Date': None}\n",
            "2024-02-20 19:36:42 [scrapy.core.scraper] DEBUG: Scraped from <200 https://apnews.com/>\n",
            "{'title': 'Ukraine’s Zelenskyy says foreign aid delays are making life ‘very difficult’ on the front line', 'url': 'https://apnews.com/article/russia-ukraine-war-weapons-avdiivka-24bd70ef8047140a10c67e000288f7d8', 'Date': None}\n",
            "2024-02-20 19:36:42 [scrapy.core.scraper] DEBUG: Scraped from <200 https://apnews.com/>\n",
            "{'title': 'Attacks on ships and US drones show Yemen’s Houthis can still fight despite US-led airstrikes', 'url': 'https://apnews.com/article/yemen-houthi-red-sea-israel-hamas-6ac2a1bf5032ed0531258816907cfe2c', 'Date': None}\n",
            "2024-02-20 19:36:42 [scrapy.core.scraper] DEBUG: Scraped from <200 https://apnews.com/>\n",
            "{'title': 'China cuts key interest rate in the latest move to boost its ailing property sector', 'url': 'https://apnews.com/article/china-economy-interest-rates-property-788f9829c2a13d4c755932ca892d7d26', 'Date': '[deltaMinutes] mins ago'}\n",
            "2024-02-20 19:36:42 [scrapy.core.scraper] DEBUG: Scraped from <200 https://apnews.com/>\n",
            "{'title': 'Capital One’s bid for Discover carries expectation that Americans won’t slow credit card use', 'url': 'https://apnews.com/article/capital-one-discover-credit-card-visa-merger-2264ec3d43143d06a1f6820d1241b033', 'Date': None}\n",
            "2024-02-20 19:36:42 [scrapy.core.scraper] DEBUG: Scraped from <200 https://apnews.com/>\n",
            "{'title': 'Stock market today: Wall Street starts holiday-shortened week on a down note', 'url': 'https://apnews.com/article/stock-market-rates-china-economy-78974c7b8ec36c26b23d0b36c336bf63', 'Date': None}\n",
            "2024-02-20 19:36:42 [scrapy.core.scraper] DEBUG: Scraped from <200 https://apnews.com/>\n",
            "{'title': 'What’s behind Germany’s transport strikes that have stranded air, rail and bus travelers?', 'url': 'https://apnews.com/article/germany-deutsche-bahn-rail-strikes-transport-airport-36812c78f69690690bbb184f9c957911', 'Date': None}\n",
            "2024-02-20 19:36:42 [scrapy.core.scraper] DEBUG: Scraped from <200 https://apnews.com/>\n",
            "{'title': 'Dandelions and shrubs to replace rubber, new grains and more: Are alternative crops realistic?', 'url': 'https://apnews.com/article/guayule-dandelion-cassava-sorghum-millet-climate-crops-bde03a0f80220d9d8d3b0f32b7ffef9b', 'Date': '[deltaMinutes] mins ago'}\n",
            "2024-02-20 19:36:42 [scrapy.core.scraper] DEBUG: Scraped from <200 https://apnews.com/>\n",
            "{'title': 'Japan’s new flagship H3 rocket reaches orbit in a key test after failed debut last year', 'url': 'https://apnews.com/article/japan-space-rocket-h3-launch-fe05ba22d3c0299e5712eef9864d18f9', 'Date': None}\n",
            "2024-02-20 19:36:42 [scrapy.core.scraper] DEBUG: Scraped from <200 https://apnews.com/>\n",
            "{'title': 'Hot seawater killed most of cultivated coral in Florida Keys in setback for restoration effort', 'url': 'https://apnews.com/article/coral-reefs-widespread-death-climate-change-2b08ae1ef9b23b4a95f57cd76ada5d3d', 'Date': None}\n",
            "2024-02-20 19:36:42 [scrapy.core.scraper] DEBUG: Scraped from <200 https://apnews.com/>\n",
            "{'title': 'NASA’s final tally shows spacecraft returned double the amount of asteroid rubble', 'url': 'https://apnews.com/article/asteroid-samples-nasa-bennu-2ea5ff565570c4db8ad492ed67dc2037', 'Date': None}\n",
            "2024-02-20 19:36:42 [scrapy.core.scraper] DEBUG: Scraped from <200 https://apnews.com/>\n",
            "{'title': 'Dreaming of summer peaches? Some gardening tips for growing a peach tree in many climates', 'url': 'https://apnews.com/article/gardening-growing-peaches-1b905bf313c5f99b2b4c5bf53c32ea6d', 'Date': '[deltaMinutes] mins ago'}\n",
            "2024-02-20 19:36:42 [scrapy.core.scraper] DEBUG: Scraped from <200 https://apnews.com/>\n",
            "{'title': 'Transform Asian kitchen staples into an umami-packed vegetarian soup', 'url': 'https://apnews.com/article/milk-street-soup-recipe-miso-mushroom-kimchi-71fa85af2f6a751b4021aae74cb198bf', 'Date': None}\n",
            "2024-02-20 19:36:42 [scrapy.core.scraper] DEBUG: Scraped from <200 https://apnews.com/>\n",
            "{'title': 'American Airlines is raising bag fees and changing how customers earn frequent-flyer points', 'url': 'https://apnews.com/article/american-airlines-points-raising-bag-fees-1530a7ba48a0c6685ce2ef7da58a983a', 'Date': None}\n",
            "2024-02-20 19:36:42 [scrapy.core.scraper] DEBUG: Scraped from <200 https://apnews.com/>\n",
            "{'title': 'Students and parents are frustrated by delays in hearing about federal financial aid for college', 'url': 'https://apnews.com/article/fafsa-financial-aid-college-03cfd8a5d92066218f4e5d3fd2ebdd9f', 'Date': None}\n",
            "2024-02-20 19:36:42 [scrapy.core.scraper] DEBUG: Scraped from <200 https://apnews.com/>\n",
            "{'title': 'Carnival parades on the French Riviera celebrate pop culture and the Olympics coming to Paris', 'url': 'https://apnews.com/article/paris-olympics-french-riviera-carnival-star-wars-a84718e2604c91c4207f84dfa84371ef', 'Date': '[deltaMinutes] mins ago'}\n",
            "2024-02-20 19:36:42 [scrapy.core.scraper] DEBUG: Scraped from <200 https://apnews.com/>\n",
            "{'title': 'With candles and flowers, thousands pay respects to Russia’s Navalny', 'url': 'https://apnews.com/article/russia-navalny-dead-opposition-leader-photo-gallery-a42d92e987257816719aefea8fc8af8b', 'Date': '[deltaMinutes] mins ago'}\n",
            "2024-02-20 19:36:42 [scrapy.core.scraper] DEBUG: Scraped from <200 https://apnews.com/>\n",
            "{'title': 'Flowers, chocolates and flash mobs: Valentine’s Day celebrations around the world', 'url': 'https://apnews.com/article/valentines-day-ap-photo-gallery-36a04c6b615309b9f13c16dd5e1b9f02', 'Date': '[deltaMinutes] mins ago'}\n",
            "2024-02-20 19:36:42 [scrapy.core.scraper] DEBUG: Scraped from <200 https://apnews.com/>\n",
            "{'title': 'Mia Fishel tears her right ACL in US practice for the Gold Cup. Alex Morgan replaces her', 'url': 'https://apnews.com/article/uswnt-morgan-mia-fishel-chelsea-8ec7934542fd1e78d728925a5ab44261', 'Date': '[deltaMinutes] mins ago'}\n",
            "2024-02-20 19:36:42 [scrapy.core.scraper] DEBUG: Scraped from <200 https://apnews.com/>\n",
            "{'title': 'Woman arrested in 2005 death of newborn who was found in a Phoenix airport trash can', 'url': 'https://apnews.com/article/newborn-death-phoenix-airport-arrest-baby-skylar-c9a81dcccc4a56ecdf6bef9b45db91ec', 'Date': '[deltaMinutes] mins ago'}\n",
            "2024-02-20 19:36:42 [scrapy.core.scraper] DEBUG: Scraped from <200 https://apnews.com/>\n",
            "{'title': 'North Carolina court tosses ex-deputy’s obstruction convictions', 'url': 'https://apnews.com/article/north-carolina-deputy-conviction-overturned-f43f4434debde0616c5b6ea21fb60ee4', 'Date': '[deltaMinutes] mins ago'}\n",
            "2024-02-20 19:36:42 [scrapy.core.scraper] DEBUG: Scraped from <200 https://apnews.com/>\n",
            "{'title': 'Walmart to acquire smart TV maker Vizio for $2.3 billion in bid to boost its advertising business', 'url': 'https://apnews.com/article/walmart-vizio-acquisition-tvs-advertising-fa46b99e01c529f352dced51ef28c260', 'Date': '[deltaMinutes] mins ago'}\n",
            "2024-02-20 19:36:42 [scrapy.core.scraper] DEBUG: Scraped from <200 https://apnews.com/>\n",
            "{'title': 'Maine wants to lead in offshore wind. The state’s governor says she has location for a key wind port', 'url': 'https://apnews.com/article/maine-offshore-wind-power-turbines-a22e8c25a1e5a1b11d583d9c42528671', 'Date': '[deltaMinutes] mins ago'}\n",
            "2024-02-20 19:36:42 [scrapy.core.scraper] DEBUG: Scraped from <200 https://apnews.com/>\n",
            "{'title': 'Thousands of Albania’s opposition supporters hold an anti-government protest against corruption', 'url': 'https://apnews.com/article/albania-opposition-protest-government-corruption-aa014b474d5b66613c5d05cdc739ac2b', 'Date': '[deltaMinutes] mins ago'}\n",
            "2024-02-20 19:36:42 [scrapy.core.scraper] DEBUG: Scraped from <200 https://apnews.com/>\n",
            "{'title': 'Coyotes laboring through 10-game losing streak after being in playoff picture a month ago', 'url': 'https://apnews.com/article/arizona-coyotes-losing-streak-0f422e4630432ac1dca5089ce2e26fe1', 'Date': '[deltaMinutes] mins ago'}\n",
            "2024-02-20 19:36:42 [scrapy.core.scraper] DEBUG: Scraped from <200 https://apnews.com/>\n",
            "{'title': 'AP Player of the Week: Texas Tech’s Darrion Williams was perfect in rout of Kansas', 'url': 'https://apnews.com/article/ap-mens-basketball-player-of-week-2ae2d430828c696cb4dc9326c0fcbf0c', 'Date': '[deltaMinutes] mins ago'}\n",
            "2024-02-20 19:36:42 [scrapy.core.scraper] DEBUG: Scraped from <200 https://apnews.com/>\n",
            "{'title': 'AP Player of the Week: Iowa’s Caitlin Clark breaks NCAA scoring record in historic fashion', 'url': 'https://apnews.com/article/caitlin-clark-ap-iowa-82662ddc6f61f3299171072becf73190', 'Date': '[deltaMinutes] mins ago'}\n",
            "2024-02-20 19:36:42 [scrapy.core.scraper] DEBUG: Scraped from <200 https://apnews.com/>\n",
            "{'title': 'Patriots captain Matthew Slater announces retirement after 16 seasons, 3 Super Bowl titles', 'url': 'https://apnews.com/article/matthew-slater-retirement-new-england-patriots-11f931e6cbfbbd0a0dae063c1fd79ad0', 'Date': '[deltaMinutes] mins ago'}\n",
            "2024-02-20 19:36:42 [scrapy.core.scraper] DEBUG: Scraped from <200 https://apnews.com/>\n",
            "{'title': 'Forward Michael Rasmussen signs a four-year contract extension with the Red Wings', 'url': 'https://apnews.com/article/red-wings-rasmussen-contract-503846b734deb74ecf534dcf070c5c19', 'Date': '[deltaMinutes] mins ago'}\n",
            "2024-02-20 19:36:42 [scrapy.core.scraper] DEBUG: Scraped from <200 https://apnews.com/>\n",
            "{'title': 'Flight attendant accused of trying to video record teen girl in airplane bathroom held until trial', 'url': 'https://apnews.com/article/flight-attendant-camera-airplane-bathroom-court-549ae01376250f381034e32a4e588dac', 'Date': '[deltaMinutes] mins ago'}\n",
            "2024-02-20 19:36:42 [scrapy.core.scraper] DEBUG: Scraped from <200 https://apnews.com/>\n",
            "{'title': 'South Carolina’s Elliott says downsizing was for family reasons, not changes in college football', 'url': 'https://apnews.com/article/gamecocks-elliott-football-9eb3173581a39729dac22cc909ec5208', 'Date': '[deltaMinutes] mins ago'}\n",
            "2024-02-20 19:36:42 [scrapy.core.scraper] DEBUG: Scraped from <200 https://apnews.com/>\n",
            "{'title': 'Jasprit Bumrah rested by India for fourth test against England', 'url': 'https://apnews.com/article/india-cricket-bumrah-22442fe41a3290684dfa74bad1d2ca26', 'Date': '[deltaMinutes] mins ago'}\n",
            "2024-02-20 19:36:42 [scrapy.core.scraper] DEBUG: Scraped from <200 https://apnews.com/>\n",
            "{'title': 'FBI investigates after letter with white powder sent to House Speaker Johnson’s Louisiana church', 'url': 'https://apnews.com/article/mike-johnson-louisiana-church-suspicious-mail-17bf0001749c71c02a96e5931230a550', 'Date': '[deltaMinutes] mins ago'}\n",
            "2024-02-20 19:36:42 [scrapy.core.scraper] DEBUG: Scraped from <200 https://apnews.com/>\n",
            "{'title': 'Multan defeats Islamabad through pace for back-to-back wins in PSL', 'url': 'https://apnews.com/article/pakistan-super-league-multan-islamabad-dbdb4188f9f2259bff9ee8979e4ed7f6', 'Date': '[deltaMinutes] mins ago'}\n",
            "2024-02-20 19:36:42 [scrapy.core.scraper] DEBUG: Scraped from <200 https://apnews.com/>\n",
            "{'title': 'Rebels linked to the Islamic State group kill at least two dozen civilians in eastern Congo', 'url': 'https://apnews.com/article/extremist-killings-congo-civilians-f4afad1daf27cc5e205c673a1d15c568', 'Date': '[deltaMinutes] mins ago'}\n",
            "2024-02-20 19:36:42 [scrapy.core.scraper] DEBUG: Scraped from <200 https://apnews.com/>\n",
            "{'title': 'Mexico’s president says the army has taken over yet another civilian role: filling potholes', 'url': 'https://apnews.com/article/mexico-army-highway-maintenance-4d42c7760713e930d92cd1bad2a55bd9', 'Date': '[deltaMinutes] mins ago'}\n",
            "2024-02-20 19:36:42 [scrapy.core.scraper] DEBUG: Scraped from <200 https://apnews.com/>\n",
            "{'title': 'Attorneys for Georgia slave descendants urge judge not to throw out their lawsuit over island zoning', 'url': 'https://apnews.com/article/gullah-geechee-zoning-sapelo-island-georgia-2587146b7b96f77a8e99308df70800e9', 'Date': '[deltaMinutes] mins ago'}\n",
            "2024-02-20 19:36:42 [scrapy.core.scraper] DEBUG: Scraped from <200 https://apnews.com/>\n",
            "{'title': 'Saturated California gets more rain and snow, but so far escapes severe damage it saw only weeks ago', 'url': 'https://apnews.com/article/california-storms-winter-rain-flooding-atmospheric-river-ae2e908f8c1c8e9dd44acc2827a61662', 'Date': '[deltaMinutes] mins ago'}\n",
            "2024-02-20 19:36:42 [scrapy.core.scraper] DEBUG: Scraped from <200 https://apnews.com/>\n",
            "{'title': 'Georgia state trooper dies after being struck by vehicle while investigating crash', 'url': 'https://apnews.com/article/georgia-state-trooper-killed-vehicle-crash-9169a51afcf79ae4864814d50b2de9fc', 'Date': '[deltaMinutes] mins ago'}\n",
            "2024-02-20 19:36:42 [scrapy.core.scraper] DEBUG: Scraped from <200 https://apnews.com/>\n",
            "{'title': 'South African president sets May 29 as election day as polls show a drop in support for the ANC', 'url': 'https://apnews.com/article/south-africa-election-date-anc-ramaphosa-f4ee2cf884ac74b96f5dc3d3f9e3a214', 'Date': '[deltaMinutes] mins ago'}\n",
            "2024-02-20 19:36:42 [scrapy.core.scraper] DEBUG: Scraped from <200 https://apnews.com/>\n",
            "{'title': 'Ex-Yahoo CEO Marissa Mayer discusses the current tech scene from vantage point of her AI startup', 'url': 'https://apnews.com/article/marissa-mayer-google-yahoo-women-artificial-intelligence-22f7cd82ae7e28d2d509a28c303381c6', 'Date': '[deltaMinutes] mins ago'}\n",
            "2024-02-20 19:36:42 [scrapy.core.scraper] DEBUG: Scraped from <200 https://apnews.com/>\n",
            "{'title': 'Vermont governor seeks disaster declaration for December flooding', 'url': 'https://apnews.com/article/flooding-vermont-disaster-declaration-phil-scott-9f1b347c0add2a9d468d1d51a2eb8448', 'Date': '[deltaMinutes] mins ago'}\n",
            "2024-02-20 19:36:42 [scrapy.core.scraper] DEBUG: Scraped from <200 https://apnews.com/>\n",
            "{'title': 'Man hurt in crash of stolen car steals ambulance after leaving Virginia hospital in gown, police say', 'url': 'https://apnews.com/article/fairfax-virginia-crash-ambulance-stolen-566d71df2e21215d325a880599e5d79e', 'Date': '[deltaMinutes] mins ago'}\n",
            "2024-02-20 19:36:42 [scrapy.core.scraper] DEBUG: Scraped from <200 https://apnews.com/>\n",
            "{'title': 'Putin says Russia has no intention of putting nuclear weapons in space, denying US claims', 'url': 'https://apnews.com/article/russia-putin-space-satellite-weapon-nuclear-15c91f8387ae3e6ec024e996755e321f', 'Date': '[deltaMinutes] mins ago'}\n",
            "2024-02-20 19:36:42 [scrapy.core.scraper] DEBUG: Scraped from <200 https://apnews.com/>\n",
            "{'title': 'Chris Caray hired as TV broadcaster for Oakland A’s games', 'url': 'https://apnews.com/article/athletics-chris-caray-dea6a778d2787ca0d51e959177d117a1', 'Date': '[deltaMinutes] mins ago'}\n",
            "2024-02-20 19:36:42 [scrapy.core.scraper] DEBUG: Scraped from <200 https://apnews.com/>\n",
            "{'title': 'Bill would let Georgia schools drop property tax rates and still get state aid', 'url': 'https://apnews.com/article/georgia-property-taxes-education-56487670473ed4dbe899217185926362', 'Date': '[deltaMinutes] mins ago'}\n",
            "2024-02-20 19:36:42 [scrapy.core.scraper] DEBUG: Scraped from <200 https://apnews.com/>\n",
            "{'title': 'Nets name former UConn coach Kevin Ollie their interim head coach, replacing Jacque Vaughn', 'url': 'https://apnews.com/article/nets-ollie-interim-coach-vaughn-160de93fe9f7af03c749d9bc68d6a9c2', 'Date': '[deltaMinutes] mins ago'}\n",
            "2024-02-20 19:36:42 [scrapy.core.scraper] DEBUG: Scraped from <200 https://apnews.com/>\n",
            "{'title': 'Authorities identify woman killed in Indianapolis Waffle House shooting', 'url': 'https://apnews.com/article/indianapolis-fatal-shooting-waffle-house-kennebrew-c95a5addfad00ad60afc385c5e495170', 'Date': '[deltaMinutes] mins ago'}\n",
            "2024-02-20 19:36:42 [scrapy.core.engine] INFO: Closing spider (finished)\n",
            "2024-02-20 19:36:42 [scrapy.extensions.feedexport] INFO: Stored json feed (103 items) in: data1.json\n",
            "2024-02-20 19:36:42 [scrapy.statscollectors] INFO: Dumping Scrapy stats:\n",
            "{'downloader/request_bytes': 432,\n",
            " 'downloader/request_count': 2,\n",
            " 'downloader/request_method_count/GET': 2,\n",
            " 'downloader/response_bytes': 95599,\n",
            " 'downloader/response_count': 2,\n",
            " 'downloader/response_status_count/200': 2,\n",
            " 'elapsed_time_seconds': 0.33296,\n",
            " 'feedexport/success_count/FileFeedStorage': 1,\n",
            " 'finish_reason': 'finished',\n",
            " 'finish_time': datetime.datetime(2024, 2, 20, 19, 36, 42, 969778, tzinfo=datetime.timezone.utc),\n",
            " 'httpcompression/response_bytes': 767662,\n",
            " 'httpcompression/response_count': 2,\n",
            " 'item_scraped_count': 103,\n",
            " 'log_count/DEBUG': 108,\n",
            " 'log_count/INFO': 11,\n",
            " 'memusage/max': 113135616,\n",
            " 'memusage/startup': 113135616,\n",
            " 'response_received_count': 2,\n",
            " 'robotstxt/request_count': 1,\n",
            " 'robotstxt/response_count': 1,\n",
            " 'robotstxt/response_status_count/200': 1,\n",
            " 'scheduler/dequeued': 1,\n",
            " 'scheduler/dequeued/memory': 1,\n",
            " 'scheduler/enqueued': 1,\n",
            " 'scheduler/enqueued/memory': 1,\n",
            " 'start_time': datetime.datetime(2024, 2, 20, 19, 36, 42, 636818, tzinfo=datetime.timezone.utc)}\n",
            "2024-02-20 19:36:43 [scrapy.core.engine] INFO: Spider closed (finished)\n"
          ]
        }
      ]
    },
    {
      "cell_type": "code",
      "source": [
        "import json\n",
        "\n",
        "with open('data1.json','r') as file:\n",
        "  data1=json.load(file)\n",
        "\n",
        "print(len(data1))"
      ],
      "metadata": {
        "id": "Bl068iEfwOQB",
        "outputId": "0bfa5c1a-749d-4170-d66c-03ddabf0462e",
        "colab": {
          "base_uri": "https://localhost:8080/"
        }
      },
      "execution_count": null,
      "outputs": [
        {
          "output_type": "stream",
          "name": "stdout",
          "text": [
            "103\n"
          ]
        }
      ]
    }
  ]
}